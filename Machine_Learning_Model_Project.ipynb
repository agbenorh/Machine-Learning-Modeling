{
  "nbformat": 4,
  "nbformat_minor": 0,
  "metadata": {
    "colab": {
      "name": "Machine Learning Model Project",
      "provenance": [],
      "collapsed_sections": []
    },
    "kernelspec": {
      "name": "python3",
      "display_name": "Python 3"
    },
    "language_info": {
      "name": "python"
    }
  },
  "cells": [
    {
      "cell_type": "code",
      "metadata": {
        "id": "ZzWRBLl6MImY"
      },
      "source": [
        "import pandas as pd\n",
        "import numpy as np\n",
        "from sklearn.model_selection import train_test_split\n",
        "from sklearn.dummy import DummyClassifier\n",
        "from sklearn.ensemble import BaggingClassifier\n",
        "from sklearn.metrics import accuracy_score\n",
        "from sklearn.metrics import (classification_report,recall_score,precision_score,accuracy_score)\n",
        "from sklearn.ensemble import RandomForestClassifier\n",
        "from sklearn.ensemble import AdaBoostClassifier\n",
        "from sklearn.tree import DecisionTreeClassifier\n",
        "from sklearn.ensemble import VotingClassifier\n",
        "from sklearn.svm import SVC\n",
        "from sklearn.linear_model import LogisticRegression\n",
        "from sklearn.preprocessing import MinMaxScaler"
      ],
      "execution_count": null,
      "outputs": []
    },
    {
      "cell_type": "code",
      "metadata": {
        "id": "UBD91CQDi8Ft"
      },
      "source": [
        "from google.colab import files\n",
        "uploaded = files.upload()\n",
        "data = pd.read_csv('netflix_titles.csv')\n",
        "display(data.head())"
      ],
      "execution_count": null,
      "outputs": []
    },
    {
      "cell_type": "code",
      "metadata": {
        "id": "Vq-iu2XCjOqn"
      },
      "source": [
        "data.drop(['show_id','date_added', 'cast', 'director'],axis = 1, inplace = True)"
      ],
      "execution_count": null,
      "outputs": []
    },
    {
      "cell_type": "code",
      "metadata": {
        "id": "BZNJ-lm7jq94"
      },
      "source": [
        "data.shape\n",
        "duplicate = data[data.duplicated()]\n",
        "print('Number of duplicate rows: ', duplicate.shape) "
      ],
      "execution_count": null,
      "outputs": []
    },
    {
      "cell_type": "code",
      "metadata": {
        "id": "dU5BvzytjwAG"
      },
      "source": [
        "data.isnull().sum() "
      ],
      "execution_count": null,
      "outputs": []
    },
    {
      "cell_type": "code",
      "metadata": {
        "id": "EgRxNAwXj2B5"
      },
      "source": [
        "data['country'] = data['country'].fillna(data['country'].mode()[0])\n",
        "data['country'].isna().sum()"
      ],
      "execution_count": null,
      "outputs": []
    },
    {
      "cell_type": "code",
      "metadata": {
        "id": "FzIdikIZkmVl"
      },
      "source": [
        "data.isnull().sum()"
      ],
      "execution_count": null,
      "outputs": []
    },
    {
      "cell_type": "code",
      "metadata": {
        "id": "7wdeThnCocyh"
      },
      "source": [
        "data.dtypes"
      ],
      "execution_count": null,
      "outputs": []
    },
    {
      "cell_type": "code",
      "metadata": {
        "id": "enaOL2BwR9TW"
      },
      "source": [
        "data.shape"
      ],
      "execution_count": null,
      "outputs": []
    },
    {
      "cell_type": "code",
      "metadata": {
        "id": "je82BG_RnYWA"
      },
      "source": [
        "X = data.iloc[:, 1:]\n",
        "y = data.iloc[:, 0]\n",
        "X_non_dummy = data.iloc[:, 1:]\n",
        "X = pd.get_dummies(X_non_dummy, columns=X_non_dummy.columns)\n",
        "X_train, X_test, y_train, y_test = train_test_split(X,y,test_size=0.3,stratify=y,random_state=42)\n",
        "dummy_classifier = DummyClassifier(strategy='most_frequent')\n",
        "dummy_classifier.fit(X_train,y_train)\n",
        "baseline_acc = dummy_classifier.score(X_test,y_test)\n",
        "print(\"Baseline Accuracy = \", baseline_acc)"
      ],
      "execution_count": null,
      "outputs": []
    },
    {
      "cell_type": "code",
      "metadata": {
        "id": "fZkpQ6C5nfZW"
      },
      "source": [
        "model_bagging = BaggingClassifier(n_estimators=10,random_state = 42)\n",
        "model_bagging.fit(X_train, y_train)\n",
        "pred_bagging = model_bagging.predict(X_test)\n",
        "acc_bagging = accuracy_score(y_test, pred_bagging)\n",
        "print('Accuracy = ', acc_bagging)"
      ],
      "execution_count": null,
      "outputs": []
    },
    {
      "cell_type": "code",
      "metadata": {
        "id": "IlEpp3MnrMXx"
      },
      "source": [
        "model_rf = RandomForestClassifier(n_estimators=100, max_features=8, random_state=42)\n",
        "model_rf.fit(X_train, y_train)\n",
        "predict_rf = model_rf.predict(X_test)\n",
        "recall_rf = recall_score(y_test, predict_rf,average='micro')\n",
        "precision_rf = precision_score(y_test, predict_rf,average='micro')\n",
        "print('Accuracy =',precision_rf)"
      ],
      "execution_count": null,
      "outputs": []
    },
    {
      "cell_type": "code",
      "metadata": {
        "id": "UzoTdfbZXttZ"
      },
      "source": [
        "feature_importances = model_rf.feature_importances_\n",
        "features = X_train.columns\n",
        "dframe = pd.DataFrame({'features': features, 'importance': feature_importances})\n",
        "dframe = dframe.sort_values(by='importance', ascending=False)\n",
        "print(dframe.iloc[0:3, :])"
      ],
      "execution_count": null,
      "outputs": []
    },
    {
      "cell_type": "code",
      "metadata": {
        "id": "ieXuw42msZ1t"
      },
      "source": [
        "base_est = DecisionTreeClassifier (max_depth = 4)\n",
        "ada_boost = AdaBoostClassifier(base_est, n_estimators=100, random_state=42, learning_rate=.05)\n",
        "ada_boost.fit(X_train, y_train)\n",
        "res1 = round(recall_score(y_test, ada_boost.predict(X_test), average='micro'),4)\n",
        "print('Accuracy =', res1)"
      ],
      "execution_count": null,
      "outputs": []
    },
    {
      "cell_type": "code",
      "metadata": {
        "id": "QQj2_QJLYfn5"
      },
      "source": [
        "feature_importances = ada_boost.feature_importances_\n",
        "print(feature_importances)\n",
        "features = X_train.columns\n",
        "dframe = pd.DataFrame({'features': features, 'importance': feature_importances})\n",
        "dframe = dframe.sort_values(by='importance', ascending=False)\n",
        "print(dframe.iloc[0:3, :])"
      ],
      "execution_count": null,
      "outputs": []
    },
    {
      "cell_type": "code",
      "metadata": {
        "id": "4yIHT9y2tueW"
      },
      "source": [
        "rfClf = RandomForestClassifier(n_estimators=10, random_state=0) \n",
        "svmClf = SVC(probability=True, random_state=0)\n",
        "logClf = LogisticRegression(random_state=0)\n",
        "dtClf = DecisionTreeClassifier(max_depth=4)\n",
        "clf2 = VotingClassifier(estimators = [('rf',rfClf), ('svm',svmClf), ('log', logClf), ('dt', dtClf)], voting='soft') \n",
        "clf2.fit(X_train, y_train)\n",
        "clf2_pred = clf2.predict(X_test)\n",
        "recall_voting = recall_score(y_test, clf2_pred, average='micro')\n",
        "precision_voting = precision_score(y_test, clf2_pred, average='micro')\n",
        "print('Accuracy score =', accuracy_score(y_test, clf2_pred))"
      ],
      "execution_count": null,
      "outputs": []
    },
    {
      "cell_type": "code",
      "metadata": {
        "id": "X1ST_Vgs9N62"
      },
      "source": [
        "import xgboost as xgb\n",
        "parameters = {\"objective\":\"reg:linear\",'colsample_bytree': 0.3,'learning_rate': 0.1,\n",
        "                'max_depth': 5, 'alpha': 10}\n",
        "data_dmatrix = xgb.DMatrix(data=X,label=y)\n",
        "cv_results = xgb.cv(dtrain=data_dmatrix, parameters=parameters, nfold=3,\n",
        "                    num_boost_round=50,early_stopping_rounds=10,metrics=\"rmse\", as_pandas=True, seed=123)"
      ],
      "execution_count": null,
      "outputs": []
    },
    {
      "cell_type": "code",
      "metadata": {
        "id": "4sjW-jt--8Ce"
      },
      "source": [
        "xg_reg = xgb.train(parameters=parameters, dtrain=data_dmatrix, num_boost_round=10)\n",
        "xgb.plot_importance(xg_reg)\n",
        "plt.rcParams['figure.figsize'] = [5, 5]\n",
        "plt.show()"
      ],
      "execution_count": null,
      "outputs": []
    }
  ]
}